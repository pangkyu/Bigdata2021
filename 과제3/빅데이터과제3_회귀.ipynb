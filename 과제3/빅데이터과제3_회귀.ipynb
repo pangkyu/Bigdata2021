{
 "cells": [
  {
   "cell_type": "markdown",
   "id": "f75ffb1d",
   "metadata": {},
   "source": [
    "# 201758101 배성규\n",
    "### 빅데이터 과제3. 회귀"
   ]
  },
  {
   "cell_type": "code",
   "execution_count": 101,
   "id": "0221dcba",
   "metadata": {},
   "outputs": [],
   "source": [
    "import matplotlib.pyplot as plt\n",
    "import pandas as pd\n",
    "import numpy as np"
   ]
  },
  {
   "cell_type": "code",
   "execution_count": 102,
   "id": "158649f5",
   "metadata": {},
   "outputs": [],
   "source": [
    "bankData = pd.read_csv('HW3.csv', index_col = 0) # index_col = 0안하면 값 scatter에서 이상하게 나옴"
   ]
  },
  {
   "cell_type": "code",
   "execution_count": 103,
   "id": "503226c2",
   "metadata": {},
   "outputs": [
    {
     "data": {
      "text/html": [
       "<div>\n",
       "<style scoped>\n",
       "    .dataframe tbody tr th:only-of-type {\n",
       "        vertical-align: middle;\n",
       "    }\n",
       "\n",
       "    .dataframe tbody tr th {\n",
       "        vertical-align: top;\n",
       "    }\n",
       "\n",
       "    .dataframe thead th {\n",
       "        text-align: right;\n",
       "    }\n",
       "</style>\n",
       "<table border=\"1\" class=\"dataframe\">\n",
       "  <thead>\n",
       "    <tr style=\"text-align: right;\">\n",
       "      <th></th>\n",
       "      <th>Income</th>\n",
       "      <th>Limit</th>\n",
       "      <th>Rating</th>\n",
       "      <th>Cards</th>\n",
       "      <th>Age</th>\n",
       "      <th>Education</th>\n",
       "      <th>Gender</th>\n",
       "      <th>Student</th>\n",
       "      <th>Married</th>\n",
       "      <th>Ethnicity</th>\n",
       "      <th>Balance</th>\n",
       "    </tr>\n",
       "  </thead>\n",
       "  <tbody>\n",
       "    <tr>\n",
       "      <th>1</th>\n",
       "      <td>14.891</td>\n",
       "      <td>3606</td>\n",
       "      <td>283</td>\n",
       "      <td>2</td>\n",
       "      <td>34</td>\n",
       "      <td>11</td>\n",
       "      <td>Male</td>\n",
       "      <td>No</td>\n",
       "      <td>Yes</td>\n",
       "      <td>Caucasian</td>\n",
       "      <td>333</td>\n",
       "    </tr>\n",
       "    <tr>\n",
       "      <th>2</th>\n",
       "      <td>106.025</td>\n",
       "      <td>6645</td>\n",
       "      <td>483</td>\n",
       "      <td>3</td>\n",
       "      <td>82</td>\n",
       "      <td>15</td>\n",
       "      <td>Female</td>\n",
       "      <td>Yes</td>\n",
       "      <td>Yes</td>\n",
       "      <td>Asian</td>\n",
       "      <td>903</td>\n",
       "    </tr>\n",
       "    <tr>\n",
       "      <th>3</th>\n",
       "      <td>104.593</td>\n",
       "      <td>7075</td>\n",
       "      <td>514</td>\n",
       "      <td>4</td>\n",
       "      <td>71</td>\n",
       "      <td>11</td>\n",
       "      <td>Male</td>\n",
       "      <td>No</td>\n",
       "      <td>No</td>\n",
       "      <td>Asian</td>\n",
       "      <td>580</td>\n",
       "    </tr>\n",
       "    <tr>\n",
       "      <th>4</th>\n",
       "      <td>148.924</td>\n",
       "      <td>9504</td>\n",
       "      <td>681</td>\n",
       "      <td>3</td>\n",
       "      <td>36</td>\n",
       "      <td>11</td>\n",
       "      <td>Female</td>\n",
       "      <td>No</td>\n",
       "      <td>No</td>\n",
       "      <td>Asian</td>\n",
       "      <td>964</td>\n",
       "    </tr>\n",
       "    <tr>\n",
       "      <th>5</th>\n",
       "      <td>55.882</td>\n",
       "      <td>4897</td>\n",
       "      <td>357</td>\n",
       "      <td>2</td>\n",
       "      <td>68</td>\n",
       "      <td>16</td>\n",
       "      <td>Male</td>\n",
       "      <td>No</td>\n",
       "      <td>Yes</td>\n",
       "      <td>Caucasian</td>\n",
       "      <td>331</td>\n",
       "    </tr>\n",
       "    <tr>\n",
       "      <th>...</th>\n",
       "      <td>...</td>\n",
       "      <td>...</td>\n",
       "      <td>...</td>\n",
       "      <td>...</td>\n",
       "      <td>...</td>\n",
       "      <td>...</td>\n",
       "      <td>...</td>\n",
       "      <td>...</td>\n",
       "      <td>...</td>\n",
       "      <td>...</td>\n",
       "      <td>...</td>\n",
       "    </tr>\n",
       "    <tr>\n",
       "      <th>396</th>\n",
       "      <td>12.096</td>\n",
       "      <td>4100</td>\n",
       "      <td>307</td>\n",
       "      <td>3</td>\n",
       "      <td>32</td>\n",
       "      <td>13</td>\n",
       "      <td>Male</td>\n",
       "      <td>No</td>\n",
       "      <td>Yes</td>\n",
       "      <td>Caucasian</td>\n",
       "      <td>560</td>\n",
       "    </tr>\n",
       "    <tr>\n",
       "      <th>397</th>\n",
       "      <td>13.364</td>\n",
       "      <td>3838</td>\n",
       "      <td>296</td>\n",
       "      <td>5</td>\n",
       "      <td>65</td>\n",
       "      <td>17</td>\n",
       "      <td>Male</td>\n",
       "      <td>No</td>\n",
       "      <td>No</td>\n",
       "      <td>African American</td>\n",
       "      <td>480</td>\n",
       "    </tr>\n",
       "    <tr>\n",
       "      <th>398</th>\n",
       "      <td>57.872</td>\n",
       "      <td>4171</td>\n",
       "      <td>321</td>\n",
       "      <td>5</td>\n",
       "      <td>67</td>\n",
       "      <td>12</td>\n",
       "      <td>Female</td>\n",
       "      <td>No</td>\n",
       "      <td>Yes</td>\n",
       "      <td>Caucasian</td>\n",
       "      <td>138</td>\n",
       "    </tr>\n",
       "    <tr>\n",
       "      <th>399</th>\n",
       "      <td>37.728</td>\n",
       "      <td>2525</td>\n",
       "      <td>192</td>\n",
       "      <td>1</td>\n",
       "      <td>44</td>\n",
       "      <td>13</td>\n",
       "      <td>Male</td>\n",
       "      <td>No</td>\n",
       "      <td>Yes</td>\n",
       "      <td>Caucasian</td>\n",
       "      <td>0</td>\n",
       "    </tr>\n",
       "    <tr>\n",
       "      <th>400</th>\n",
       "      <td>18.701</td>\n",
       "      <td>5524</td>\n",
       "      <td>415</td>\n",
       "      <td>5</td>\n",
       "      <td>64</td>\n",
       "      <td>7</td>\n",
       "      <td>Female</td>\n",
       "      <td>No</td>\n",
       "      <td>No</td>\n",
       "      <td>Asian</td>\n",
       "      <td>966</td>\n",
       "    </tr>\n",
       "  </tbody>\n",
       "</table>\n",
       "<p>400 rows × 11 columns</p>\n",
       "</div>"
      ],
      "text/plain": [
       "      Income  Limit  Rating  Cards  Age  Education  Gender Student Married  \\\n",
       "1     14.891   3606     283      2   34         11    Male      No     Yes   \n",
       "2    106.025   6645     483      3   82         15  Female     Yes     Yes   \n",
       "3    104.593   7075     514      4   71         11    Male      No      No   \n",
       "4    148.924   9504     681      3   36         11  Female      No      No   \n",
       "5     55.882   4897     357      2   68         16    Male      No     Yes   \n",
       "..       ...    ...     ...    ...  ...        ...     ...     ...     ...   \n",
       "396   12.096   4100     307      3   32         13    Male      No     Yes   \n",
       "397   13.364   3838     296      5   65         17    Male      No      No   \n",
       "398   57.872   4171     321      5   67         12  Female      No     Yes   \n",
       "399   37.728   2525     192      1   44         13    Male      No     Yes   \n",
       "400   18.701   5524     415      5   64          7  Female      No      No   \n",
       "\n",
       "            Ethnicity  Balance  \n",
       "1           Caucasian      333  \n",
       "2               Asian      903  \n",
       "3               Asian      580  \n",
       "4               Asian      964  \n",
       "5           Caucasian      331  \n",
       "..                ...      ...  \n",
       "396         Caucasian      560  \n",
       "397  African American      480  \n",
       "398         Caucasian      138  \n",
       "399         Caucasian        0  \n",
       "400             Asian      966  \n",
       "\n",
       "[400 rows x 11 columns]"
      ]
     },
     "execution_count": 103,
     "metadata": {},
     "output_type": "execute_result"
    }
   ],
   "source": [
    "bankData"
   ]
  },
  {
   "cell_type": "markdown",
   "id": "073387fb",
   "metadata": {},
   "source": [
    "### 1) 파일을 읽어 데이터프레임을 생성하고 처음 3개의 샘플을 출력하시오. 특성의 개수와 샘플(관측치)의 개수를 구하고 결측치가 있는지 알아보시오. 수치형 특성과 범주형 특성은 무엇인지 파악하시오."
   ]
  },
  {
   "cell_type": "code",
   "execution_count": 104,
   "id": "c88534b0",
   "metadata": {},
   "outputs": [
    {
     "data": {
      "text/html": [
       "<div>\n",
       "<style scoped>\n",
       "    .dataframe tbody tr th:only-of-type {\n",
       "        vertical-align: middle;\n",
       "    }\n",
       "\n",
       "    .dataframe tbody tr th {\n",
       "        vertical-align: top;\n",
       "    }\n",
       "\n",
       "    .dataframe thead th {\n",
       "        text-align: right;\n",
       "    }\n",
       "</style>\n",
       "<table border=\"1\" class=\"dataframe\">\n",
       "  <thead>\n",
       "    <tr style=\"text-align: right;\">\n",
       "      <th></th>\n",
       "      <th>Income</th>\n",
       "      <th>Limit</th>\n",
       "      <th>Rating</th>\n",
       "      <th>Cards</th>\n",
       "      <th>Age</th>\n",
       "      <th>Education</th>\n",
       "      <th>Gender</th>\n",
       "      <th>Student</th>\n",
       "      <th>Married</th>\n",
       "      <th>Ethnicity</th>\n",
       "      <th>Balance</th>\n",
       "    </tr>\n",
       "  </thead>\n",
       "  <tbody>\n",
       "    <tr>\n",
       "      <th>1</th>\n",
       "      <td>14.891</td>\n",
       "      <td>3606</td>\n",
       "      <td>283</td>\n",
       "      <td>2</td>\n",
       "      <td>34</td>\n",
       "      <td>11</td>\n",
       "      <td>Male</td>\n",
       "      <td>No</td>\n",
       "      <td>Yes</td>\n",
       "      <td>Caucasian</td>\n",
       "      <td>333</td>\n",
       "    </tr>\n",
       "    <tr>\n",
       "      <th>2</th>\n",
       "      <td>106.025</td>\n",
       "      <td>6645</td>\n",
       "      <td>483</td>\n",
       "      <td>3</td>\n",
       "      <td>82</td>\n",
       "      <td>15</td>\n",
       "      <td>Female</td>\n",
       "      <td>Yes</td>\n",
       "      <td>Yes</td>\n",
       "      <td>Asian</td>\n",
       "      <td>903</td>\n",
       "    </tr>\n",
       "    <tr>\n",
       "      <th>3</th>\n",
       "      <td>104.593</td>\n",
       "      <td>7075</td>\n",
       "      <td>514</td>\n",
       "      <td>4</td>\n",
       "      <td>71</td>\n",
       "      <td>11</td>\n",
       "      <td>Male</td>\n",
       "      <td>No</td>\n",
       "      <td>No</td>\n",
       "      <td>Asian</td>\n",
       "      <td>580</td>\n",
       "    </tr>\n",
       "  </tbody>\n",
       "</table>\n",
       "</div>"
      ],
      "text/plain": [
       "    Income  Limit  Rating  Cards  Age  Education  Gender Student Married  \\\n",
       "1   14.891   3606     283      2   34         11    Male      No     Yes   \n",
       "2  106.025   6645     483      3   82         15  Female     Yes     Yes   \n",
       "3  104.593   7075     514      4   71         11    Male      No      No   \n",
       "\n",
       "   Ethnicity  Balance  \n",
       "1  Caucasian      333  \n",
       "2      Asian      903  \n",
       "3      Asian      580  "
      ]
     },
     "execution_count": 104,
     "metadata": {},
     "output_type": "execute_result"
    }
   ],
   "source": [
    "bankData.head(3)"
   ]
  },
  {
   "cell_type": "code",
   "execution_count": 105,
   "id": "1906e0b0",
   "metadata": {},
   "outputs": [
    {
     "name": "stdout",
     "output_type": "stream",
     "text": [
      "<class 'pandas.core.frame.DataFrame'>\n",
      "Int64Index: 400 entries, 1 to 400\n",
      "Data columns (total 11 columns):\n",
      " #   Column     Non-Null Count  Dtype  \n",
      "---  ------     --------------  -----  \n",
      " 0   Income     400 non-null    float64\n",
      " 1   Limit      400 non-null    int64  \n",
      " 2   Rating     400 non-null    int64  \n",
      " 3   Cards      400 non-null    int64  \n",
      " 4   Age        400 non-null    int64  \n",
      " 5   Education  400 non-null    int64  \n",
      " 6   Gender     400 non-null    object \n",
      " 7   Student    400 non-null    object \n",
      " 8   Married    400 non-null    object \n",
      " 9   Ethnicity  400 non-null    object \n",
      " 10  Balance    400 non-null    int64  \n",
      "dtypes: float64(1), int64(6), object(4)\n",
      "memory usage: 37.5+ KB\n"
     ]
    }
   ],
   "source": [
    "bankData.info()"
   ]
  },
  {
   "cell_type": "code",
   "execution_count": 143,
   "id": "bf8d34a5",
   "metadata": {},
   "outputs": [
    {
     "name": "stdout",
     "output_type": "stream",
     "text": [
      "[ 14.891 106.025 104.593 148.924  55.882  80.18   20.996  71.408  15.125\n",
      "  71.061  63.095  15.045  80.616  43.682  19.144  20.089  53.598  36.496\n",
      "  49.57   42.079  17.7    37.348  20.103  64.027  10.742  14.09   42.471\n",
      "  32.793 186.634  26.813  34.142  28.941 134.181  31.367  20.15   23.35\n",
      "  62.413  30.007  11.795  13.647  34.95  113.659  44.158  36.929  31.861\n",
      "  77.38   19.531  44.646  44.522  43.479  36.362  39.705  44.205  16.304\n",
      "  15.333  32.916  57.1    76.273  10.354  51.872  35.51   21.238  30.682\n",
      "  14.132  32.164  12.    113.829  11.187  27.847  49.502  24.889  58.781\n",
      "  22.939  23.989  16.103  33.017  30.622  20.936 110.968  15.354  27.369\n",
      "  53.48   23.672  19.225  43.54  152.298  55.367  11.741  15.56   59.53\n",
      "  20.191  48.498  30.733  16.479  38.009  14.084  14.312  26.067  36.295\n",
      "  83.851  21.153  17.976  68.713 146.183  15.846  12.031  16.819  39.11\n",
      " 107.986  13.561  34.537  28.575  46.007  69.251  16.482  40.442  35.177\n",
      "  91.362  27.039  23.012  27.241 148.08   62.602  11.808  29.564  27.578\n",
      "  26.427  57.202 123.299  18.145  23.793  10.726  23.283  21.455  34.664\n",
      "  44.473  54.663  36.355  21.374 107.841  39.831  91.876 103.893  19.636\n",
      "  17.392  19.529  17.055  23.857  15.184  13.444  63.931  35.864  41.419\n",
      "  92.112  55.056  19.537  31.811  56.256  42.357  53.319  12.238  31.353\n",
      "  63.809  13.676  76.782  25.383  35.691  29.403  27.47   27.33   34.772\n",
      "  36.934  76.348  14.887 121.834  30.132  24.05   22.379  28.316  58.026\n",
      "  10.635  46.102  58.929  80.861 158.889  30.42   36.472  23.365  83.869\n",
      "  58.351  55.187 124.29   28.508 130.209  30.406  23.883  93.039  50.699\n",
      "  27.349  10.403  23.949  73.914  21.038  68.206  57.337  10.793  23.45\n",
      "  10.842  51.345 151.947  24.543  29.567  39.145  39.422  34.909  41.025\n",
      "  15.476  12.456  10.627  38.954  44.847  98.515  33.437  27.512 121.709\n",
      "  15.079  59.879  66.989  69.165  69.943  33.214  25.124  15.741  11.603\n",
      "  69.656  10.503  42.529  60.579  26.532  27.952  29.705  15.602  20.918\n",
      "  58.165  22.561  34.509  19.588  36.364  15.717  22.574  10.363  28.474\n",
      "  72.945  85.425  36.508  58.063  25.936  15.629  41.4    33.657  67.937\n",
      " 180.379  10.588  29.725  27.999  40.885  88.83   29.638  25.988  39.055\n",
      "  15.866  44.978  30.413  16.751  30.55  163.329  23.106  41.532 128.04\n",
      "  54.319  53.401  36.142  63.534  49.927  14.711  18.967  18.036  60.449\n",
      "  16.711  10.852  26.37   24.088  51.532 140.672  42.915  27.272  65.896\n",
      "  55.054  20.791  24.919  21.786  31.335  59.855  44.061  82.706  24.46\n",
      "  45.12   75.406  14.956  75.257  33.694  23.375  27.825  92.386 115.52\n",
      "  14.479  52.179  68.462  18.951  27.59   16.279  25.078  27.229 182.728\n",
      "  31.029  17.765 125.48   49.166  41.192  94.193  20.405  12.581  62.328\n",
      "  21.011  24.23   24.314  32.856  12.414  41.365 149.316  27.794  13.234\n",
      "  14.595  10.735  48.218  30.012  21.551 160.231  13.433  48.577  30.002\n",
      "  61.62  104.483  41.868  12.068 180.682  34.48   39.609  30.111  12.335\n",
      "  53.566  53.217  26.162  64.173 128.669 113.772  61.069  89.     71.682\n",
      "  35.61   39.116  19.782  55.412  29.4    20.974  87.625  28.144  19.349\n",
      "  53.308 115.123 101.788  24.824  14.292  20.088  26.4    19.253  16.529\n",
      "  37.878  83.948 135.118  73.327  25.974  17.316  49.794  12.096  13.364\n",
      "  57.872  37.728  18.701]\n",
      "[ 3606  6645  7075  9504  4897  8047  3388  7114  3300  6819  8117  1311\n",
      "  5308  6922  3291  2525  3714  4378  6384  6626  2860  6378  2631  5179\n",
      "  1757  4323  3625  4534 13414  5611  5666  2733  7838  1829  2646  2558\n",
      "  6457  6481  3899  3461  3327  7659  4763  6257  6375  7569  5043  4431\n",
      "  2252  4569  5183  3969  5441  5466  1499  1786  4742  4779  3480  5294\n",
      "  5198  3089  1671  2998  2937  4160  9704  5099  5619  3954  7402  4923\n",
      "  4523  5390  3180  3293  3254  6662  2101  3449  4263  4433  1433  2906\n",
      " 12066  6340  2271  4307  7518  5767  6040  2832  5435  3075   855  5382\n",
      "  2963  8494  3736  2433  7582  9540  4768  3182  1337  3189  6033  3261\n",
      "  3271  2959  6637  6386  3326  4828  2117  9113  2161  1410  1402  8157\n",
      "  7056  1300  2529  2531  5533  3411  8376  3821  1568  5443  5829  5835\n",
      "  3500  4116  3613  2073 10384  6045  6754  7416  4896  2748  4673  5110\n",
      "  1501  2420   886  5728  4831  2120  4612  3155  1362  4284  5521  5550\n",
      "  3000  4865  1705  7530  2330  5977  4527  2880  2327  2820  6179  2021\n",
      "  4270  4697  4745 10673  2168  2607  3965  4391  7499  3584  5180  6420\n",
      "  4090 11589  4442  3806  2179  7667  4411  5352  9560  3933 10088  5384\n",
      "  7398  3977  2000  4159  5343  7333  1448  6784  5310  3878  2450  4327\n",
      "  9156  3206  5309  4351  5245  5289  4229  2762  5395  1647  5222  5765\n",
      "  8760  6207  4613  7818  5673  6906  5614  4668  7555  5137  4776  4788\n",
      "  2278  8244  2923  4986  5149  2910  3557  3351   906  1233  6617  1787\n",
      "  2001  3211  2220   905  1551  2430  3202  8603  5182  4221  1774  2493\n",
      "  2561  6196  5184  9310  4049  3536  5107  5013  4952  5833  1349  5565\n",
      "  3085  4866  3690  4706  5869  8732  3476  5000  6982  3063  5319  1852\n",
      "  8100  6396  2047  1626  1552  3098  5274  3907  3235  3665  5096 11200\n",
      "  2532  1389  5140  4381  2672  5051  4632  3526  4964  4970  7506  1924\n",
      "  3762  3874  4640  7010  4891  5429  5227  7685  9272  7306  4712  1485\n",
      "  2586  1160  3096  3484 13913  2863  5072 10230  3673  7576  4543  3976\n",
      "  5228  3402  4756  3409  5884  5303 10278  3807  3922  2955  3746  5199\n",
      "  1511  5380 10748  1134  5145  1561  7140  4716  3873 11966  6090  2539\n",
      "  4336  4471  5891  4943  5101  6127  9824  6442  7871  3615  5759  8028\n",
      "  6135  2150  3782  5354  4840  7167  1567  4941  7760  8029  5495  3274\n",
      "  1870  5640  3683  1357  6827  7100 10578  6555  2308  1335  5758  4100\n",
      "  3838  4171  5524]\n",
      "[283 483 514 681 357 569 259 512 266 491 589 138 394 511 269 200 286 339\n",
      " 448 479 235 458 213 398 156 326 289 333 949 411 413 210 563 162 199 220\n",
      " 455 462 300 264 253 538 351 445 469 564 376 320 205 354 301 154 372 367\n",
      " 281 390 364 254 160 251 223 694 380 418 505 318 355 338 224 468 171 288\n",
      " 317 344 122 232 828 182 352 543 431 456 249 388 245 120 241 607 256 190\n",
      " 531 682 365 115 263 449 279 250 231 474 268 369 186 626 173 137 128 599\n",
      " 481 117 192 195 433 610 407 427 452 257 314 278 175 728 459 549 387 228\n",
      " 341 371 150 121 435 353 184 143 406 381 515 203 429 214 178 219 167 299\n",
      " 750 206 221 292 316 560 294 382 335 805 309 554 385 701 287 730 181 517\n",
      " 304 169 310 383 529 145 499 392 321 180 358 642 243 397 323 410 337 215\n",
      " 149 370 437 633 451 584 527 430 547 378 360 187 579 236 262 103 460 147\n",
      " 189 265 188  93 134 191 267 621 402 135 450 665 296 270 379 142 217 347\n",
      " 439 636 518 248 377 183 581 485 272 817 204 536 165 298 332 494 396 386\n",
      " 534 656 522 340 129 229 126 282 982 721 508 297 329 291 261 438 119 707\n",
      " 260 280 401 420 754 112 389 155 374 507 342 832 442 434 362 685 489 440\n",
      " 466 293 368 366 574 409 482 503 747 472 196 307 415]\n",
      "[2 3 4 5 1 6 7 8 9]\n",
      "[34 82 71 36 68 77 37 87 66 41 30 64 57 49 75 73 69 28 44 63 72 61 48 25\n",
      " 55 47 43 54 24 50 27 32 60 79 65 70 81 35 59 38 78 31 45 40 83 33 52 42\n",
      " 51 26 46 74 56 53 58 62 67 84 89 80 29 85 39 91 76 86 98 23]\n",
      "[11 15 16 10 12  9 13 19 14  7 17  8  5 20 18  6]\n",
      "['Male' 'Female']\n",
      "['No' 'Yes']\n",
      "['Yes' 'No']\n",
      "['Caucasian' 'Asian' 'African American']\n",
      "[ 333  903  580  964  331 1151  203  872  279 1350 1407    0  204 1081\n",
      "  148  368  891 1048   89  968  411  671  654  467 1809  915  863  526\n",
      "  419  762 1093  531  344   50 1155  385  976 1120  997 1241  797  902\n",
      "  211  607  957  379  133  631  108  602 1388  889  822 1084  357 1103\n",
      "  663  601  945   29  532  145  391  162   99  503 1779  815  579 1176\n",
      " 1023  812  937 1380  155  375 1311  298  431 1587 1050  745  210  227\n",
      "  297   47 1046  768  271  510 1341  454  904 1404 1259  255  868  912\n",
      " 1018  835    8   75  187 1597 1425  605  669  710   68  642  805  581\n",
      "  534  156  429 1020  653  836 1086  548  570 1099  283  724 1573  384\n",
      "  453 1237  423  516  789 1448  450  188  930  126  538 1687  336 1426\n",
      "  802  749   69  571  829 1411  456  638 1216  230  732   95  799  308\n",
      "  637  681  246   52  955  195 1246 1230 1549  573  701 1075 1032  482\n",
      " 1058  661  657  689 1329  191  489  443  163   16  856  199   98  132\n",
      " 1355  218  118 1092  345  465  651  549   15  942  772  136  436  728\n",
      " 1255  967  529  209  250  269  541 1298  890  485  159  309  481 1677\n",
      "  293  711  172  295  414  905   70  885 1036  844  823  843 1140  463\n",
      " 1142    5   81  265 1999  415 1361  984  121  846 1054  474  380  182\n",
      "  594  194  926  606 1107  320  426  410  633  907 1192  302  583  425\n",
      "  413 1405  962  347  611  712  382  578 1243  790 1264  216 1208  992\n",
      "  840 1003  588 1000  767  717  849 1352  371 1129  806 1393  721  734\n",
      "  560  480  138  966]\n"
     ]
    }
   ],
   "source": [
    "\n",
    "print(bankData['Income'].unique())\n",
    "print(bankData['Limit'].unique())\n",
    "print(bankData['Rating'].unique())\n",
    "print(bankData['Cards'].unique())\n",
    "print(bankData['Age'].unique())\n",
    "print(bankData['Education'].unique())\n",
    "print(bankData['Gender'].unique())\n",
    "print(bankData['Student'].unique())\n",
    "print(bankData['Married'].unique())\n",
    "print(bankData['Ethnicity'].unique()) \n",
    "print(bankData['Balance'].unique())\n",
    " \n",
    "# 결측치 없다! \n",
    "# 특성개수 : 10개\n"
   ]
  },
  {
   "cell_type": "markdown",
   "id": "738cb098",
   "metadata": {},
   "source": [
    "### 2 수치형 특성과 레이블에 대하여는 히스토그램을 작성하고 범주형 특성에 대하여는 막대그래프를 작성하고 간단히 코멘트 하시오."
   ]
  },
  {
   "cell_type": "code",
   "execution_count": 107,
   "id": "f21c42c8",
   "metadata": {},
   "outputs": [
    {
     "data": {
      "text/plain": [
       "Text(0.5, 1.0, 'Gender')"
      ]
     },
     "execution_count": 107,
     "metadata": {},
     "output_type": "execute_result"
    },
    {
     "data": {
      "image/png": "[encoded data removed]",
      "text/plain": [
       "<Figure size 432x288 with 1 Axes>"
      ]
     },
     "metadata": {
      "needs_background": "light"
     },
     "output_type": "display_data"
    }
   ],
   "source": [
    "# Gender, Student, Married, Ethnicity (범주형)\n",
    "# Income, Limit, Rating, Cards, Age, Education (수치형) \n",
    "\n",
    "bankData['Gender'].value_counts().plot.bar()\n",
    "plt.title('Gender')"
   ]
  },
  {
   "cell_type": "code",
   "execution_count": 108,
   "id": "5a0cbff4",
   "metadata": {},
   "outputs": [
    {
     "data": {
      "text/plain": [
       "Text(0.5, 1.0, 'Student')"
      ]
     },
     "execution_count": 108,
     "metadata": {},
     "output_type": "execute_result"
    },
    {
     "data": {
      "image/png": "[encoded data removed]",
      "text/plain": [
       "<Figure size 432x288 with 1 Axes>"
      ]
     },
     "metadata": {
      "needs_background": "light"
     },
     "output_type": "display_data"
    }
   ],
   "source": [
    "bankData['Student'].value_counts().plot.bar()\n",
    "plt.title('Student')"
   ]
  },
  {
   "cell_type": "code",
   "execution_count": 109,
   "id": "9195d574",
   "metadata": {},
   "outputs": [
    {
     "data": {
      "text/plain": [
       "Text(0.5, 1.0, 'Married')"
      ]
     },
     "execution_count": 109,
     "metadata": {},
     "output_type": "execute_result"
    },
    {
     "data": {
      "image/png": "[encoded data removed]",
      "text/plain": [
       "<Figure size 432x288 with 1 Axes>"
      ]
     },
     "metadata": {
      "needs_background": "light"
     },
     "output_type": "display_data"
    }
   ],
   "source": [
    "bankData['Married'].value_counts().plot.bar()\n",
    "plt.title('Married')\n"
   ]
  },
  {
   "cell_type": "code",
   "execution_count": 110,
   "id": "6ffc9116",
   "metadata": {},
   "outputs": [
    {
     "data": {
      "text/plain": [
       "Text(0.5, 1.0, 'Ethnicity')"
      ]
     },
     "execution_count": 110,
     "metadata": {},
     "output_type": "execute_result"
    },
    {
     "data": {
      "image/png": "[encoded data removed]",
      "text/plain": [
       "<Figure size 432x288 with 1 Axes>"
      ]
     },
     "metadata": {
      "needs_background": "light"
     },
     "output_type": "display_data"
    }
   ],
   "source": [
    "bankData['Ethnicity'].value_counts().plot.bar()\n",
    "plt.title('Ethnicity')"
   ]
  },
  {
   "cell_type": "code",
   "execution_count": 111,
   "id": "49a6b682",
   "metadata": {},
   "outputs": [
    {
     "data": {
      "text/plain": [
       "(array([163., 103.,  52.,  30.,  14.,  14.,   8.,   7.,   5.,   4.]),\n",
       " array([ 10.354,  27.982,  45.61 ,  63.238,  80.866,  98.494, 116.122,\n",
       "        133.75 , 151.378, 169.006, 186.634]),\n",
       " <BarContainer object of 10 artists>)"
      ]
     },
     "execution_count": 111,
     "metadata": {},
     "output_type": "execute_result"
    },
    {
     "data": {
      "image/png": "[encoded data removed]",
      "text/plain": [
       "<Figure size 432x288 with 1 Axes>"
      ]
     },
     "metadata": {
      "needs_background": "light"
     },
     "output_type": "display_data"
    }
   ],
   "source": [
    "plt.hist(bankData['Income'], bins = 10)"
   ]
  },
  {
   "cell_type": "code",
   "execution_count": 112,
   "id": "53cd8c3f",
   "metadata": {},
   "outputs": [
    {
     "data": {
      "text/plain": [
       "(array([51., 78., 84., 93., 42., 28., 11.,  8.,  3.,  2.]),\n",
       " array([  855. ,  2160.8,  3466.6,  4772.4,  6078.2,  7384. ,  8689.8,\n",
       "         9995.6, 11301.4, 12607.2, 13913. ]),\n",
       " <BarContainer object of 10 artists>)"
      ]
     },
     "execution_count": 112,
     "metadata": {},
     "output_type": "execute_result"
    },
    {
     "data": {
      "image/png": "[encoded data removed]",
      "text/plain": [
       "<Figure size 432x288 with 1 Axes>"
      ]
     },
     "metadata": {
      "needs_background": "light"
     },
     "output_type": "display_data"
    }
   ],
   "source": [
    "plt.hist(bankData['Limit'], bins = 10)"
   ]
  },
  {
   "cell_type": "code",
   "execution_count": 113,
   "id": "0eb4a15e",
   "metadata": {},
   "outputs": [
    {
     "data": {
      "text/plain": [
       "(array([51., 79., 86., 91., 47., 23., 11.,  6.,  4.,  2.]),\n",
       " array([ 93. , 181.9, 270.8, 359.7, 448.6, 537.5, 626.4, 715.3, 804.2,\n",
       "        893.1, 982. ]),\n",
       " <BarContainer object of 10 artists>)"
      ]
     },
     "execution_count": 113,
     "metadata": {},
     "output_type": "execute_result"
    },
    {
     "data": {
      "image/png": "[encoded data removed]",
      "text/plain": [
       "<Figure size 432x288 with 1 Axes>"
      ]
     },
     "metadata": {
      "needs_background": "light"
     },
     "output_type": "display_data"
    }
   ],
   "source": [
    "plt.hist(bankData['Rating'], bins = 10)"
   ]
  },
  {
   "cell_type": "code",
   "execution_count": 114,
   "id": "8d7de97b",
   "metadata": {},
   "outputs": [
    {
     "data": {
      "text/plain": [
       "(array([ 51., 115., 111.,  72.,   0.,  34.,  11.,   4.,   1.,   1.]),\n",
       " array([1. , 1.8, 2.6, 3.4, 4.2, 5. , 5.8, 6.6, 7.4, 8.2, 9. ]),\n",
       " <BarContainer object of 10 artists>)"
      ]
     },
     "execution_count": 114,
     "metadata": {},
     "output_type": "execute_result"
    },
    {
     "data": {
      "image/png": "[encoded data removed]",
      "text/plain": [
       "<Figure size 432x288 with 1 Axes>"
      ]
     },
     "metadata": {
      "needs_background": "light"
     },
     "output_type": "display_data"
    }
   ],
   "source": [
    "plt.hist(bankData['Cards'], bins = 10)"
   ]
  },
  {
   "cell_type": "code",
   "execution_count": 115,
   "id": "219f7b53",
   "metadata": {},
   "outputs": [
    {
     "data": {
      "text/plain": [
       "(array([32., 43., 52., 58., 49., 49., 53., 46., 16.,  2.]),\n",
       " array([23. , 30.5, 38. , 45.5, 53. , 60.5, 68. , 75.5, 83. , 90.5, 98. ]),\n",
       " <BarContainer object of 10 artists>)"
      ]
     },
     "execution_count": 115,
     "metadata": {},
     "output_type": "execute_result"
    },
    {
     "data": {
      "image/png": "[encoded data removed]",
      "text/plain": [
       "<Figure size 432x288 with 1 Axes>"
      ]
     },
     "metadata": {
      "needs_background": "light"
     },
     "output_type": "display_data"
    }
   ],
   "source": [
    "plt.hist(bankData['Age'], bins = 10)"
   ]
  },
  {
   "cell_type": "code",
   "execution_count": 116,
   "id": "1b737262",
   "metadata": {},
   "outputs": [
    {
     "data": {
      "text/plain": [
       "(array([ 6.,  8., 39., 24., 70., 38., 97., 50., 56., 12.]),\n",
       " array([ 5. ,  6.5,  8. ,  9.5, 11. , 12.5, 14. , 15.5, 17. , 18.5, 20. ]),\n",
       " <BarContainer object of 10 artists>)"
      ]
     },
     "execution_count": 116,
     "metadata": {},
     "output_type": "execute_result"
    },
    {
     "data": {
      "image/png": "[encoded data removed]",
      "text/plain": [
       "<Figure size 432x288 with 1 Axes>"
      ]
     },
     "metadata": {
      "needs_background": "light"
     },
     "output_type": "display_data"
    }
   ],
   "source": [
    "plt.hist(bankData['Education'], bins = 10)"
   ]
  },
  {
   "cell_type": "code",
   "execution_count": 117,
   "id": "a80e6a14",
   "metadata": {},
   "outputs": [
    {
     "data": {
      "text/plain": [
       "(array([138.,  45.,  53.,  47.,  48.,  32.,  21.,  11.,   3.,   2.]),\n",
       " array([   0. ,  199.9,  399.8,  599.7,  799.6,  999.5, 1199.4, 1399.3,\n",
       "        1599.2, 1799.1, 1999. ]),\n",
       " <BarContainer object of 10 artists>)"
      ]
     },
     "execution_count": 117,
     "metadata": {},
     "output_type": "execute_result"
    },
    {
     "data": {
      "image/png": "[encoded data removed]",
      "text/plain": [
       "<Figure size 432x288 with 1 Axes>"
      ]
     },
     "metadata": {
      "needs_background": "light"
     },
     "output_type": "display_data"
    }
   ],
   "source": [
    "plt.hist(bankData['Balance'], bins = 10)"
   ]
  },
  {
   "cell_type": "markdown",
   "id": "d54a5ac3",
   "metadata": {},
   "source": [
    " - 학생이 아닌 고객이 만흥ㅁ"
   ]
  },
  {
   "cell_type": "markdown",
   "id": "27298c83",
   "metadata": {},
   "source": [
    "# 3) 상관관계 파악하기"
   ]
  },
  {
   "cell_type": "code",
   "execution_count": 118,
   "id": "80275789",
   "metadata": {},
   "outputs": [
    {
     "data": {
      "text/html": [
       "<div>\n",
       "<style scoped>\n",
       "    .dataframe tbody tr th:only-of-type {\n",
       "        vertical-align: middle;\n",
       "    }\n",
       "\n",
       "    .dataframe tbody tr th {\n",
       "        vertical-align: top;\n",
       "    }\n",
       "\n",
       "    .dataframe thead th {\n",
       "        text-align: right;\n",
       "    }\n",
       "</style>\n",
       "<table border=\"1\" class=\"dataframe\">\n",
       "  <thead>\n",
       "    <tr style=\"text-align: right;\">\n",
       "      <th></th>\n",
       "      <th>Income</th>\n",
       "      <th>Limit</th>\n",
       "      <th>Rating</th>\n",
       "      <th>Cards</th>\n",
       "      <th>Age</th>\n",
       "      <th>Education</th>\n",
       "      <th>Balance</th>\n",
       "    </tr>\n",
       "  </thead>\n",
       "  <tbody>\n",
       "    <tr>\n",
       "      <th>Income</th>\n",
       "      <td>1.000000</td>\n",
       "      <td>0.792088</td>\n",
       "      <td>0.791378</td>\n",
       "      <td>-0.018273</td>\n",
       "      <td>0.175338</td>\n",
       "      <td>-0.027692</td>\n",
       "      <td>0.463656</td>\n",
       "    </tr>\n",
       "    <tr>\n",
       "      <th>Limit</th>\n",
       "      <td>0.792088</td>\n",
       "      <td>1.000000</td>\n",
       "      <td>0.996880</td>\n",
       "      <td>0.010231</td>\n",
       "      <td>0.100888</td>\n",
       "      <td>-0.023549</td>\n",
       "      <td>0.861697</td>\n",
       "    </tr>\n",
       "    <tr>\n",
       "      <th>Rating</th>\n",
       "      <td>0.791378</td>\n",
       "      <td>0.996880</td>\n",
       "      <td>1.000000</td>\n",
       "      <td>0.053239</td>\n",
       "      <td>0.103165</td>\n",
       "      <td>-0.030136</td>\n",
       "      <td>0.863625</td>\n",
       "    </tr>\n",
       "    <tr>\n",
       "      <th>Cards</th>\n",
       "      <td>-0.018273</td>\n",
       "      <td>0.010231</td>\n",
       "      <td>0.053239</td>\n",
       "      <td>1.000000</td>\n",
       "      <td>0.042948</td>\n",
       "      <td>-0.051084</td>\n",
       "      <td>0.086456</td>\n",
       "    </tr>\n",
       "    <tr>\n",
       "      <th>Age</th>\n",
       "      <td>0.175338</td>\n",
       "      <td>0.100888</td>\n",
       "      <td>0.103165</td>\n",
       "      <td>0.042948</td>\n",
       "      <td>1.000000</td>\n",
       "      <td>0.003619</td>\n",
       "      <td>0.001835</td>\n",
       "    </tr>\n",
       "    <tr>\n",
       "      <th>Education</th>\n",
       "      <td>-0.027692</td>\n",
       "      <td>-0.023549</td>\n",
       "      <td>-0.030136</td>\n",
       "      <td>-0.051084</td>\n",
       "      <td>0.003619</td>\n",
       "      <td>1.000000</td>\n",
       "      <td>-0.008062</td>\n",
       "    </tr>\n",
       "    <tr>\n",
       "      <th>Balance</th>\n",
       "      <td>0.463656</td>\n",
       "      <td>0.861697</td>\n",
       "      <td>0.863625</td>\n",
       "      <td>0.086456</td>\n",
       "      <td>0.001835</td>\n",
       "      <td>-0.008062</td>\n",
       "      <td>1.000000</td>\n",
       "    </tr>\n",
       "  </tbody>\n",
       "</table>\n",
       "</div>"
      ],
      "text/plain": [
       "             Income     Limit    Rating     Cards       Age  Education  \\\n",
       "Income     1.000000  0.792088  0.791378 -0.018273  0.175338  -0.027692   \n",
       "Limit      0.792088  1.000000  0.996880  0.010231  0.100888  -0.023549   \n",
       "Rating     0.791378  0.996880  1.000000  0.053239  0.103165  -0.030136   \n",
       "Cards     -0.018273  0.010231  0.053239  1.000000  0.042948  -0.051084   \n",
       "Age        0.175338  0.100888  0.103165  0.042948  1.000000   0.003619   \n",
       "Education -0.027692 -0.023549 -0.030136 -0.051084  0.003619   1.000000   \n",
       "Balance    0.463656  0.861697  0.863625  0.086456  0.001835  -0.008062   \n",
       "\n",
       "            Balance  \n",
       "Income     0.463656  \n",
       "Limit      0.861697  \n",
       "Rating     0.863625  \n",
       "Cards      0.086456  \n",
       "Age        0.001835  \n",
       "Education -0.008062  \n",
       "Balance    1.000000  "
      ]
     },
     "execution_count": 118,
     "metadata": {},
     "output_type": "execute_result"
    }
   ],
   "source": [
    "bankData.corr()"
   ]
  },
  {
   "cell_type": "markdown",
   "id": "85dc6ede",
   "metadata": {},
   "source": [
    " - Limit과 Rating이 강한 양의 상관관계를 보임 \n",
    " - Income - Limit, Income과 Rating도 강한 양의 상관관계를 보인다. "
   ]
  },
  {
   "cell_type": "code",
   "execution_count": 119,
   "id": "18ecd293",
   "metadata": {},
   "outputs": [
    {
     "data": {
      "image/png": "[encoded data removed]",
      "text/plain": [
       "<Figure size 1152x576 with 6 Axes>"
      ]
     },
     "metadata": {
      "needs_background": "light"
     },
     "output_type": "display_data"
    }
   ],
   "source": [
    "plt.figure(figsize = (16,8))\n",
    "for i in range(1, 7):\n",
    "    plt.subplot(2,3,i)\n",
    "    plt.scatter(bankData.iloc[:, i-1], bankData.iloc[:,10], alpha= 0.7)\n",
    "    plt.xlabel(bankData.columns[i-1])\n",
    "    plt.ylabel(bankData.columns[10])"
   ]
  },
  {
   "cell_type": "markdown",
   "id": "70bf52e2",
   "metadata": {},
   "source": [
    " - Limit와 Rating이 밸런스와 강한 양의 상관괸계를 보임. "
   ]
  },
  {
   "cell_type": "markdown",
   "id": "bda7b619",
   "metadata": {},
   "source": [
    "# 5) Rating(신용점수) 변수를 특성으로 하고 Balance(잔고) 변수를 레이블로 하는 단순선형회귀모형을 훈련하고 산점도에 회귀직선식을 표시하고 이 모형의 결정계수()을 구하시오."
   ]
  },
  {
   "cell_type": "code",
   "execution_count": 120,
   "id": "ea8572f1",
   "metadata": {},
   "outputs": [],
   "source": [
    "X = bankData.loc[:, 'Rating'].to_numpy()"
   ]
  },
  {
   "cell_type": "code",
   "execution_count": 121,
   "id": "83c47070",
   "metadata": {},
   "outputs": [
    {
     "data": {
      "text/plain": [
       "(400, 1)"
      ]
     },
     "execution_count": 121,
     "metadata": {},
     "output_type": "execute_result"
    }
   ],
   "source": [
    "X = X.reshape(X.shape[0], 1)\n",
    "X.shape"
   ]
  },
  {
   "cell_type": "code",
   "execution_count": 122,
   "id": "abdc3cc2",
   "metadata": {},
   "outputs": [],
   "source": [
    "y = bankData['Balance'].to_numpy()"
   ]
  },
  {
   "cell_type": "code",
   "execution_count": 123,
   "id": "645f203f",
   "metadata": {},
   "outputs": [],
   "source": [
    "from sklearn.linear_model import LinearRegression"
   ]
  },
  {
   "cell_type": "code",
   "execution_count": 124,
   "id": "d15d9826",
   "metadata": {},
   "outputs": [],
   "source": [
    "reg1 = LinearRegression()"
   ]
  },
  {
   "cell_type": "code",
   "execution_count": 125,
   "id": "a34773a5",
   "metadata": {},
   "outputs": [
    {
     "data": {
      "text/plain": [
       "LinearRegression()"
      ]
     },
     "execution_count": 125,
     "metadata": {},
     "output_type": "execute_result"
    }
   ],
   "source": [
    "reg1.fit(X, y)"
   ]
  },
  {
   "cell_type": "code",
   "execution_count": 126,
   "id": "3f238c72",
   "metadata": {},
   "outputs": [
    {
     "data": {
      "text/plain": [
       "array([2.56624033])"
      ]
     },
     "execution_count": 126,
     "metadata": {},
     "output_type": "execute_result"
    }
   ],
   "source": [
    "reg1.coef_"
   ]
  },
  {
   "cell_type": "code",
   "execution_count": 127,
   "id": "a5420621",
   "metadata": {},
   "outputs": [
    {
     "data": {
      "text/plain": [
       "-390.8463417872381"
      ]
     },
     "execution_count": 127,
     "metadata": {},
     "output_type": "execute_result"
    }
   ],
   "source": [
    "reg1.intercept_"
   ]
  },
  {
   "cell_type": "code",
   "execution_count": 128,
   "id": "29b0e4f3",
   "metadata": {},
   "outputs": [],
   "source": [
    "pred = reg1.predict(X)"
   ]
  },
  {
   "cell_type": "code",
   "execution_count": 129,
   "id": "242fc092",
   "metadata": {},
   "outputs": [],
   "source": [
    "score = reg1.score(X, y)"
   ]
  },
  {
   "cell_type": "code",
   "execution_count": 130,
   "id": "87014a65",
   "metadata": {},
   "outputs": [
    {
     "data": {
      "text/plain": [
       "0.7458484180585037"
      ]
     },
     "execution_count": 130,
     "metadata": {},
     "output_type": "execute_result"
    }
   ],
   "source": [
    "score"
   ]
  },
  {
   "cell_type": "code",
   "execution_count": 131,
   "id": "6d7ec6d7",
   "metadata": {},
   "outputs": [
    {
     "data": {
      "image/png": "[encoded data removed]",
      "text/plain": [
       "<Figure size 432x288 with 1 Axes>"
      ]
     },
     "metadata": {
      "needs_background": "light"
     },
     "output_type": "display_data"
    }
   ],
   "source": [
    "plt.scatter(X, y)\n",
    "plt.xlabel('Rating')\n",
    "plt.ylabel('Balance')\n",
    "eq = 'y =' + str(round(reg1.intercept_,2)) + '+' +str(round(reg1.coef_[0],2)) + 'x'\n",
    "plt.plot(X, pred, color='red', label=eq)\n",
    "plt.title('Rating vs Balance' + '(R^2 = '+ str(round(score,4)*100) + '%)')\n",
    "plt.legend();"
   ]
  },
  {
   "cell_type": "markdown",
   "id": "adffee01",
   "metadata": {},
   "source": [
    "- 결정계수의 의미 : rating으로 balance(에 있는 변동)의 74.58퍼센트를 설명함\n",
    "- 회귀직선식 : Balance = 390.85 + 2.57(Rating)"
   ]
  },
  {
   "cell_type": "markdown",
   "id": "c9cff4ee",
   "metadata": {},
   "source": [
    "# 6) 수치형 특성들만 포함하여 데이터를 훈련용과 테스트용으로 7:3으로 분할(random_state=0)하여 선형회귀모형을 훈련시키고 훈련데이터와 테스트데이터에 대한 결정계수를 구하시오. 과대적합이나 과소적합이 의심되는지 코멘트 하시오. Income이 100, Limit가 6000, Rating이 550, Card가 5개, 나이가 55, 교육년수가 20인 사람의 잔고를 예측하시오."
   ]
  },
  {
   "cell_type": "code",
   "execution_count": 132,
   "id": "f79a737f",
   "metadata": {},
   "outputs": [],
   "source": [
    "X = bankData.iloc[:, :6].values"
   ]
  },
  {
   "cell_type": "code",
   "execution_count": 133,
   "id": "b78f3a3c",
   "metadata": {},
   "outputs": [],
   "source": [
    "y = bankData['Balance'].values"
   ]
  },
  {
   "cell_type": "code",
   "execution_count": 134,
   "id": "061b04af",
   "metadata": {},
   "outputs": [],
   "source": [
    "from sklearn.model_selection import train_test_split"
   ]
  },
  {
   "cell_type": "code",
   "execution_count": 135,
   "id": "cb500461",
   "metadata": {},
   "outputs": [],
   "source": [
    "X_train, X_test, y_train, y_test = train_test_split(X,y,train_size = 0.7, random_state = 0)"
   ]
  },
  {
   "cell_type": "code",
   "execution_count": 136,
   "id": "aaea0e78",
   "metadata": {},
   "outputs": [],
   "source": [
    "reg2 = LinearRegression()"
   ]
  },
  {
   "cell_type": "code",
   "execution_count": 137,
   "id": "974ae710",
   "metadata": {},
   "outputs": [
    {
     "data": {
      "text/plain": [
       "LinearRegression()"
      ]
     },
     "execution_count": 137,
     "metadata": {},
     "output_type": "execute_result"
    }
   ],
   "source": [
    "reg2.fit(X_train, y_train)"
   ]
  },
  {
   "cell_type": "code",
   "execution_count": 138,
   "id": "ce351a20",
   "metadata": {},
   "outputs": [
    {
     "data": {
      "text/plain": [
       "array([-7.90523312,  0.15976222,  1.56900826, 14.42490726, -0.60836095,\n",
       "        2.94113733])"
      ]
     },
     "execution_count": 138,
     "metadata": {},
     "output_type": "execute_result"
    }
   ],
   "source": [
    "reg2.coef_"
   ]
  },
  {
   "cell_type": "code",
   "execution_count": 139,
   "id": "df43cb2d",
   "metadata": {},
   "outputs": [
    {
     "data": {
      "text/plain": [
       "-486.6594364191833"
      ]
     },
     "execution_count": 139,
     "metadata": {},
     "output_type": "execute_result"
    }
   ],
   "source": [
    "reg2.intercept_"
   ]
  },
  {
   "cell_type": "code",
   "execution_count": 140,
   "id": "a6ce0404",
   "metadata": {},
   "outputs": [
    {
     "name": "stdout",
     "output_type": "stream",
     "text": [
      "0.8857073035585357\n",
      "0.8557914117915563\n"
     ]
    }
   ],
   "source": [
    "print(reg2.score(X_train, y_train))\n",
    "print(reg2.score(X_test, y_test))"
   ]
  },
  {
   "cell_type": "markdown",
   "id": "1da8008e",
   "metadata": {},
   "source": [
    " - 훈련데이터에 대한 결정계수 ==> 0.8857로 1에 가깝기 때문에 과소적합이 아니다. 테스트셋에 대한 결정계수가 트레이닝셋과 크게 차이나지 않기 때문에 과대적합으로도 볼 수 없다. "
   ]
  },
  {
   "cell_type": "code",
   "execution_count": 141,
   "id": "703da039",
   "metadata": {},
   "outputs": [
    {
     "data": {
      "text/plain": [
       "array([641.83257176])"
      ]
     },
     "execution_count": 141,
     "metadata": {},
     "output_type": "execute_result"
    }
   ],
   "source": [
    "new_ex = [100, 6000, 550, 5, 55, 20]\n",
    "new_case = np.array(new_ex).reshape(1,6)\n",
    "reg2.predict(new_case)"
   ]
  },
  {
   "cell_type": "code",
   "execution_count": 142,
   "id": "c4804ad4",
   "metadata": {},
   "outputs": [
    {
     "data": {
      "text/plain": [
       "641.8325717615619"
      ]
     },
     "execution_count": 142,
     "metadata": {},
     "output_type": "execute_result"
    }
   ],
   "source": [
    "reg2.intercept_+np.dot(reg2.coef_, new_ex) "
   ]
  },
  {
   "cell_type": "code",
   "execution_count": null,
   "id": "f386d9d3",
   "metadata": {},
   "outputs": [],
   "source": []
  },
  {
   "cell_type": "code",
   "execution_count": null,
   "id": "b78865a2",
   "metadata": {},
   "outputs": [],
   "source": []
  }
 ],
 "metadata": {
  "kernelspec": {
   "display_name": "Python 3",
   "language": "python",
   "name": "python3"
  },
  "language_info": {
   "codemirror_mode": {
    "name": "ipython",
    "version": 3
   },
   "file_extension": ".py",
   "mimetype": "text/x-python",
   "name": "python",
   "nbconvert_exporter": "python",
   "pygments_lexer": "ipython3",
   "version": "3.8.8"
  }
 },
 "nbformat": 4,
 "nbformat_minor": 5
}
