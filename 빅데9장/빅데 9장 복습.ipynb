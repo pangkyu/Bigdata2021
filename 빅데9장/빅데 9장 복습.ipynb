{
 "cells": [
  {
   "cell_type": "code",
   "execution_count": 2,
   "id": "d035f439",
   "metadata": {},
   "outputs": [],
   "source": [
    "import numpy as np\n",
    "import pandas as pd\n",
    "import matplotlib.pyplot as plt"
   ]
  },
  {
   "cell_type": "markdown",
   "id": "4f278453",
   "metadata": {},
   "source": [
    " - 단순선형회귀 예제\n",
    " "
   ]
  },
  {
   "cell_type": "code",
   "execution_count": 4,
   "id": "5227811d",
   "metadata": {},
   "outputs": [
    {
     "data": {
      "text/plain": [
       "<matplotlib.collections.PathCollection at 0x2e0bdfdad30>"
      ]
     },
     "execution_count": 4,
     "metadata": {},
     "output_type": "execute_result"
    },
    {
     "data": {
      "image/png": "[encoded data removed]",
      "text/plain": [
       "<Figure size 432x288 with 1 Axes>"
      ]
     },
     "metadata": {
      "needs_background": "light"
     },
     "output_type": "display_data"
    }
   ],
   "source": [
    "# X : 특성행렬(넘파이 이차원 배열), y : 레이블 벡터(넘파이 일차원 배열)\n",
    "X = np.arange(10).reshape(10,1) # reshape을 이용하여 2차원으로 만들어준다. \n",
    "y = np.array([-1,2,3,5,4,7,6,6,9,9])\n",
    "plt.scatter(X,y)"
   ]
  },
  {
   "cell_type": "code",
   "execution_count": 5,
   "id": "14a21394",
   "metadata": {},
   "outputs": [],
   "source": [
    "from sklearn.linear_model import LinearRegression"
   ]
  },
  {
   "cell_type": "code",
   "execution_count": 6,
   "id": "43fe91f2",
   "metadata": {},
   "outputs": [],
   "source": [
    "reg = LinearRegression()"
   ]
  },
  {
   "cell_type": "code",
   "execution_count": 7,
   "id": "9e0e29ec",
   "metadata": {},
   "outputs": [
    {
     "data": {
      "text/plain": [
       "sklearn.linear_model._base.LinearRegression"
      ]
     },
     "execution_count": 7,
     "metadata": {},
     "output_type": "execute_result"
    }
   ],
   "source": [
    "type(reg)"
   ]
  },
  {
   "cell_type": "code",
   "execution_count": 11,
   "id": "ce70ea4a",
   "metadata": {},
   "outputs": [
    {
     "data": {
      "text/plain": [
       "LinearRegression()"
      ]
     },
     "execution_count": 11,
     "metadata": {},
     "output_type": "execute_result"
    }
   ],
   "source": [
    "reg.fit(X,y) # 모델훈련(training) = 학습(learning) = 적합(fitting)"
   ]
  },
  {
   "cell_type": "code",
   "execution_count": 13,
   "id": "ad1a61f8",
   "metadata": {},
   "outputs": [
    {
     "data": {
      "text/plain": [
       "array([0.96969697])"
      ]
     },
     "execution_count": 13,
     "metadata": {},
     "output_type": "execute_result"
    }
   ],
   "source": [
    "reg.coef_ # coefficient 계수( 기울기 )  "
   ]
  },
  {
   "cell_type": "code",
   "execution_count": 16,
   "id": "49460488",
   "metadata": {},
   "outputs": [
    {
     "data": {
      "text/plain": [
       "0.6363636363636358"
      ]
     },
     "execution_count": 16,
     "metadata": {},
     "output_type": "execute_result"
    }
   ],
   "source": [
    "reg.intercept_ # 절편         , y = 0.63 + 0.96x"
   ]
  },
  {
   "cell_type": "code",
   "execution_count": 17,
   "id": "3ad10ee9",
   "metadata": {},
   "outputs": [],
   "source": [
    "pred = reg.predict(X) # X만 있으면 계산된다. "
   ]
  },
  {
   "cell_type": "code",
   "execution_count": 19,
   "id": "69a5a18a",
   "metadata": {},
   "outputs": [
    {
     "data": {
      "text/plain": [
       "[<matplotlib.lines.Line2D at 0x2e0c0f71d90>]"
      ]
     },
     "execution_count": 19,
     "metadata": {},
     "output_type": "execute_result"
    },
    {
     "data": {
      "image/png": "[encoded data removed]",
      "text/plain": [
       "<Figure size 432x288 with 1 Axes>"
      ]
     },
     "metadata": {
      "needs_background": "light"
     },
     "output_type": "display_data"
    }
   ],
   "source": [
    "plt.scatter(X,y)\n",
    "plt.plot(X, pred , c = 'r')"
   ]
  },
  {
   "cell_type": "code",
   "execution_count": 22,
   "id": "cc7db823",
   "metadata": {},
   "outputs": [],
   "source": [
    "# 절편을 안줄때\n",
    "reg2 = LinearRegression(fit_intercept = False)"
   ]
  },
  {
   "cell_type": "code",
   "execution_count": 23,
   "id": "47e88c81",
   "metadata": {},
   "outputs": [
    {
     "data": {
      "text/plain": [
       "LinearRegression(fit_intercept=False)"
      ]
     },
     "execution_count": 23,
     "metadata": {},
     "output_type": "execute_result"
    }
   ],
   "source": [
    "reg2.fit(X,y)"
   ]
  },
  {
   "cell_type": "code",
   "execution_count": 24,
   "id": "d80b9582",
   "metadata": {},
   "outputs": [
    {
     "data": {
      "text/plain": [
       "array([1.07017544])"
      ]
     },
     "execution_count": 24,
     "metadata": {},
     "output_type": "execute_result"
    }
   ],
   "source": [
    "reg2.coef_"
   ]
  },
  {
   "cell_type": "code",
   "execution_count": 27,
   "id": "baf99041",
   "metadata": {},
   "outputs": [
    {
     "data": {
      "text/plain": [
       "0.0"
      ]
     },
     "execution_count": 27,
     "metadata": {},
     "output_type": "execute_result"
    }
   ],
   "source": [
    "reg2.intercept_ # 절편을 False했기 때문에 "
   ]
  },
  {
   "cell_type": "code",
   "execution_count": 28,
   "id": "e0eb29d4",
   "metadata": {},
   "outputs": [],
   "source": [
    "pred2 = reg2.predict(X)"
   ]
  },
  {
   "cell_type": "code",
   "execution_count": 29,
   "id": "be1b621d",
   "metadata": {},
   "outputs": [
    {
     "data": {
      "text/plain": [
       "array([0.        , 1.07017544, 2.14035088, 3.21052632, 4.28070175,\n",
       "       5.35087719, 6.42105263, 7.49122807, 8.56140351, 9.63157895])"
      ]
     },
     "execution_count": 29,
     "metadata": {},
     "output_type": "execute_result"
    }
   ],
   "source": [
    "pred2"
   ]
  },
  {
   "cell_type": "code",
   "execution_count": 30,
   "id": "2883de50",
   "metadata": {},
   "outputs": [
    {
     "data": {
      "text/plain": [
       "[<matplotlib.lines.Line2D at 0x2e0c09cd5e0>]"
      ]
     },
     "execution_count": 30,
     "metadata": {},
     "output_type": "execute_result"
    },
    {
     "data": {
      "image/png": "[encoded data removed]",
      "text/plain": [
       "<Figure size 432x288 with 1 Axes>"
      ]
     },
     "metadata": {
      "needs_background": "light"
     },
     "output_type": "display_data"
    }
   ],
   "source": [
    "plt.scatter(X,y)\n",
    "plt.plot(X, pred, c='r')\n",
    "plt.plot(X, pred2, c='g')"
   ]
  },
  {
   "cell_type": "code",
   "execution_count": 36,
   "id": "f906ea77",
   "metadata": {},
   "outputs": [
    {
     "data": {
      "text/plain": [
       "0.8815426997245179"
      ]
     },
     "execution_count": 36,
     "metadata": {},
     "output_type": "execute_result"
    }
   ],
   "source": [
    "reg.score(X,y) # 결정계수(R^2), score값은 1에 가까울 수록 더 좋음!"
   ]
  },
  {
   "cell_type": "code",
   "execution_count": 35,
   "id": "a13b8e93",
   "metadata": {},
   "outputs": [
    {
     "data": {
      "text/plain": [
       "0.8682216905901117"
      ]
     },
     "execution_count": 35,
     "metadata": {},
     "output_type": "execute_result"
    }
   ],
   "source": [
    "reg2.score(X,y)"
   ]
  },
  {
   "cell_type": "code",
   "execution_count": 37,
   "id": "5dc2d30b",
   "metadata": {},
   "outputs": [],
   "source": [
    "# fit, predict, score 구현해야 한다. \n",
    "class MyLinearReg:\n",
    "    \"\"\"\n",
    "    정규방정식(행렬)을 이용한 선형회귀\n",
    "    Parameters(매개변수)\n",
    "    with_intercept : boolean, default : True\n",
    "      절편여부\n",
    "    Attributes(속성)\n",
    "     -----------\n",
    "    coef_: list 기울기\n",
    "    intercept_ : float 절편\n",
    "    \"\"\"\n",
    "    \n",
    "    def __init__(self, with_intercept = True):\n",
    "        self.with_intercept = with_intercept\n",
    "    \n",
    "    def fit(self, X, y):\n",
    "        n = X.shape[0] # 샘플 계수 \n",
    "        if self.with_intercept == True:\n",
    "            X = np.hstack([np.ones((n,1)), X])\n",
    "        XTX = X.T @ X\n",
    "        XTy = X.T @ y\n",
    "        beta = np.linalg.inv(XTX) @ XTy\n",
    "        if self.with_intercept == True:\n",
    "            self.coef_, self.intercept_ = beta[1:], beta[0]\n",
    "        else:\n",
    "            self.coef_, self.intercept_ = beta, 0\n",
    "        return self\n",
    "    \n",
    "    def predict(self,X):\n",
    "        y = self.intercept_ + X @ self.coef_\n",
    "        return y"
   ]
  },
  {
   "cell_type": "code",
   "execution_count": 40,
   "id": "46b97fd5",
   "metadata": {},
   "outputs": [
    {
     "name": "stdout",
     "output_type": "stream",
     "text": [
      "[0.96969697]\n"
     ]
    }
   ],
   "source": [
    "my_reg = MyLinearReg()\n",
    "my_reg.fit(X, y)\n",
    "print(my_reg.coef_)"
   ]
  },
  {
   "cell_type": "code",
   "execution_count": 41,
   "id": "03a2eb36",
   "metadata": {},
   "outputs": [
    {
     "name": "stdout",
     "output_type": "stream",
     "text": [
      "[1.07017544]\n"
     ]
    }
   ],
   "source": [
    "my_reg2 = MyLinearReg(with_intercept = False)\n",
    "my_reg2.fit(X , y)\n",
    "print(my_reg2.coef_)"
   ]
  },
  {
   "cell_type": "code",
   "execution_count": null,
   "id": "b1939f69",
   "metadata": {},
   "outputs": [],
   "source": []
  }
 ],
 "metadata": {
  "kernelspec": {
   "display_name": "Python 3",
   "language": "python",
   "name": "python3"
  },
  "language_info": {
   "codemirror_mode": {
    "name": "ipython",
    "version": 3
   },
   "file_extension": ".py",
   "mimetype": "text/x-python",
   "name": "python",
   "nbconvert_exporter": "python",
   "pygments_lexer": "ipython3",
   "version": "3.8.8"
  }
 },
 "nbformat": 4,
 "nbformat_minor": 5
}
