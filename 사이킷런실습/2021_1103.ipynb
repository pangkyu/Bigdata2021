{
 "cells": [
  {
   "cell_type": "code",
   "execution_count": 1,
   "id": "7bf25c86",
   "metadata": {},
   "outputs": [],
   "source": [
    "import pandas as pd\n",
    "import numpy as np\n",
    "import matplotlib.pyplot as plt"
   ]
  },
  {
   "cell_type": "code",
   "execution_count": 2,
   "id": "47342fdd",
   "metadata": {},
   "outputs": [],
   "source": [
    "path = 'https://archive.ics.uci.edu/ml/machine-learning-databases/iris/iris.data'\n",
    "df = pd.read_csv(path, header=None)\n",
    "df.columns =  ['sepal length', 'sepal width', 'petal length', 'petal width', 'species'] \n",
    "X = df.drop('species', axis=1).to_numpy()\n",
    "y = df['species'].to_numpy()\n",
    "y = np.where(y == 'Iris-setosa', 0, np.where(y == 'Iris-versicolor', 1, 2))"
   ]
  },
  {
   "cell_type": "code",
   "execution_count": 5,
   "id": "59260958",
   "metadata": {},
   "outputs": [],
   "source": [
    "X = X[:, [2,3] ]"
   ]
  },
  {
   "cell_type": "code",
   "execution_count": 6,
   "id": "010d9f69",
   "metadata": {},
   "outputs": [
    {
     "data": {
      "text/plain": [
       "(150, 2)"
      ]
     },
     "execution_count": 6,
     "metadata": {},
     "output_type": "execute_result"
    }
   ],
   "source": [
    "X.shape"
   ]
  },
  {
   "cell_type": "markdown",
   "id": "c1d78e41",
   "metadata": {},
   "source": [
    "## 데이터 분할(훈련용 VS 테스트용)"
   ]
  },
  {
   "cell_type": "code",
   "execution_count": 9,
   "id": "4d889b9b",
   "metadata": {},
   "outputs": [],
   "source": [
    "from sklearn.model_selection import train_test_split\n"
   ]
  },
  {
   "cell_type": "code",
   "execution_count": 18,
   "id": "d9eaf75e",
   "metadata": {},
   "outputs": [],
   "source": [
    "X_train, X_test, y_train, y_test = train_test_split(X,y, train_size = 0.7, random_state = 1, stratify = y)\n",
    "#train_size, test_size => 훈련, 테스트 사이즈를 정할 수 있다.\n",
    "# random_state => \n",
    "# stratify => "
   ]
  },
  {
   "cell_type": "code",
   "execution_count": 19,
   "id": "2894f0b1",
   "metadata": {},
   "outputs": [
    {
     "data": {
      "text/plain": [
       "(105, 2)"
      ]
     },
     "execution_count": 19,
     "metadata": {},
     "output_type": "execute_result"
    }
   ],
   "source": [
    "X_train.shape"
   ]
  },
  {
   "cell_type": "code",
   "execution_count": 20,
   "id": "5e3119b9",
   "metadata": {},
   "outputs": [
    {
     "data": {
      "text/plain": [
       "(105,)"
      ]
     },
     "execution_count": 20,
     "metadata": {},
     "output_type": "execute_result"
    }
   ],
   "source": [
    "y_train.shape"
   ]
  },
  {
   "cell_type": "code",
   "execution_count": 21,
   "id": "d0a44a7a",
   "metadata": {},
   "outputs": [
    {
     "data": {
      "text/plain": [
       "0    35\n",
       "1    35\n",
       "2    35\n",
       "dtype: int64"
      ]
     },
     "execution_count": 21,
     "metadata": {},
     "output_type": "execute_result"
    }
   ],
   "source": [
    "pd.Series(y_train).value_counts()"
   ]
  },
  {
   "cell_type": "code",
   "execution_count": 22,
   "id": "190a0697",
   "metadata": {},
   "outputs": [
    {
     "data": {
      "text/plain": [
       "0    15\n",
       "1    15\n",
       "2    15\n",
       "dtype: int64"
      ]
     },
     "execution_count": 22,
     "metadata": {},
     "output_type": "execute_result"
    }
   ],
   "source": [
    "pd.Series(y_test).value_counts()"
   ]
  },
  {
   "cell_type": "markdown",
   "id": "16773e5c",
   "metadata": {},
   "source": [
    "- x축 : 꽃잎의 길이(0번째 칼럼) \n",
    "- y축 : 꽃잎의 너비(1번째 칼럼)\n",
    "- 품종별로 다른 색깔로 표시하기 "
   ]
  },
  {
   "cell_type": "code",
   "execution_count": 27,
   "id": "39ade939",
   "metadata": {},
   "outputs": [
    {
     "data": {
      "image/png": "[encoded data removed]",
      "text/plain": [
       "<Figure size 432x288 with 1 Axes>"
      ]
     },
     "metadata": {
      "needs_background": "light"
     },
     "output_type": "display_data"
    }
   ],
   "source": [
    "ax = plt.axes()\n",
    "markers = [ 's', 'x', 'o' ]\n",
    "colors = [ 'r', 'g', 'b']\n",
    "labels = ['setosa', 'versicolor', 'virginica']\n",
    "for i in range(3):\n",
    "    X_sub = X_train[y_train == i] #품종이 i 인거만 뽑힘 \n",
    "    ax.scatter(X_sub[:, 0] , X_sub [:, 1], marker = markers[i], c = colors[i], label = labels[i], alpha = 0.5)\n",
    "    ax.set(xlabel = 'Petal Length', ylabel = 'Petal Width')\n",
    "    ax.legend()"
   ]
  },
  {
   "cell_type": "code",
   "execution_count": 28,
   "id": "d11561e1",
   "metadata": {},
   "outputs": [],
   "source": [
    "from sklearn.preprocessing import StandardScaler"
   ]
  },
  {
   "cell_type": "code",
   "execution_count": 29,
   "id": "f59d2b69",
   "metadata": {},
   "outputs": [],
   "source": [
    "sc = StandardScaler()"
   ]
  },
  {
   "cell_type": "code",
   "execution_count": 31,
   "id": "e796d831",
   "metadata": {},
   "outputs": [
    {
     "data": {
      "text/plain": [
       "StandardScaler()"
      ]
     },
     "execution_count": 31,
     "metadata": {},
     "output_type": "execute_result"
    }
   ],
   "source": [
    "sc.fit(X_train)"
   ]
  },
  {
   "cell_type": "code",
   "execution_count": 33,
   "id": "c86c3726",
   "metadata": {},
   "outputs": [],
   "source": [
    "X_train_std  = sc.transform(X_train)"
   ]
  },
  {
   "cell_type": "code",
   "execution_count": 35,
   "id": "17890106",
   "metadata": {},
   "outputs": [],
   "source": [
    "X_test_std = sc.transform(X_test)"
   ]
  },
  {
   "cell_type": "code",
   "execution_count": 36,
   "id": "b255900d",
   "metadata": {},
   "outputs": [
    {
     "data": {
      "text/plain": [
       "array([[-1.33269725, -1.30380366],\n",
       "       [-1.16537974, -1.30380366],\n",
       "       [ 0.84243039,  1.44465434],\n",
       "       [ 1.0655204 ,  1.18289644],\n",
       "       [-1.44424226, -1.30380366],\n",
       "       [ 1.0097479 ,  1.57553329],\n",
       "       [ 1.56747294,  1.18289644],\n",
       "       [-1.44424226, -1.30380366],\n",
       "       [ 1.12129291,  0.52850167],\n",
       "       [ 0.45202286,  0.13586482],\n",
       "       [-0.27301968, -0.25677204],\n",
       "       [ 0.06161534,  0.26674377],\n",
       "       [-1.38846976, -1.30380366],\n",
       "       [ 0.50779537,  0.00498586],\n",
       "       [ 0.11738784,  0.13586482],\n",
       "       [ 0.73088538,  0.92113853],\n",
       "       [-1.05383474, -1.30380366],\n",
       "       [-0.16147468, -0.25677204],\n",
       "       [ 0.06161534,  0.00498586],\n",
       "       [-1.22115225, -1.30380366],\n",
       "       [ 0.56356787,  0.79025958],\n",
       "       [ 1.73479045,  1.44465434],\n",
       "       [ 0.39625036,  0.39762272],\n",
       "       [ 0.39625036,  0.13586482],\n",
       "       [ 0.00584283, -0.12589309],\n",
       "       [ 1.0097479 ,  1.57553329],\n",
       "       [ 0.50779537,  0.26674377],\n",
       "       [ 1.0097479 ,  0.26674377],\n",
       "       [ 1.12129291,  1.31377539],\n",
       "       [ 0.73088538,  1.57553329],\n",
       "       [ 0.17316034,  0.13586482],\n",
       "       [-1.27692475, -1.04204575],\n",
       "       [ 1.62324544,  1.31377539],\n",
       "       [ 0.67511288,  0.92113853],\n",
       "       [ 0.56356787,  0.79025958],\n",
       "       [ 1.0097479 ,  1.18289644],\n",
       "       [ 0.22893285,  0.39762272],\n",
       "       [ 1.62324544,  1.05201748],\n",
       "       [ 0.9539754 ,  0.79025958],\n",
       "       [-1.22115225, -1.30380366],\n",
       "       [ 0.61934037,  0.79025958],\n",
       "       [-1.33269725, -1.30380366],\n",
       "       [ 0.73088538,  0.39762272],\n",
       "       [-1.05383474, -1.04204575],\n",
       "       [-1.55578727, -1.30380366],\n",
       "       [ 0.61934037,  0.39762272],\n",
       "       [-1.27692475, -1.43468261],\n",
       "       [-1.50001477, -1.43468261],\n",
       "       [ 0.9539754 ,  0.79025958],\n",
       "       [ 0.50779537,  0.39762272],\n",
       "       [-1.16537974, -1.17292471],\n",
       "       [-0.16147468, -0.25677204],\n",
       "       [ 0.17316034, -0.25677204],\n",
       "       [-1.27692475, -1.30380366],\n",
       "       [-1.27692475, -1.30380366],\n",
       "       [-1.27692475, -1.30380366],\n",
       "       [-0.04992967, -0.25677204],\n",
       "       [ 1.28861042,  1.70641225],\n",
       "       [-1.38846976, -1.17292471],\n",
       "       [ 0.61934037,  0.39762272],\n",
       "       [-1.38846976, -1.30380366],\n",
       "       [ 0.39625036,  0.52850167],\n",
       "       [ 1.23283791,  0.79025958],\n",
       "       [-1.22115225, -1.30380366],\n",
       "       [-1.33269725, -1.30380366],\n",
       "       [ 0.34047786,  0.00498586],\n",
       "       [ 0.73088538,  0.92113853],\n",
       "       [-0.10570217,  0.13586482],\n",
       "       [ 0.17316034,  0.13586482],\n",
       "       [ 0.56356787,  0.79025958],\n",
       "       [ 1.28861042,  1.44465434],\n",
       "       [ 0.39625036,  0.39762272],\n",
       "       [ 0.39625036,  0.39762272],\n",
       "       [ 0.89820289,  1.18289644],\n",
       "       [ 1.0097479 ,  1.31377539],\n",
       "       [ 0.45202286,  0.26674377],\n",
       "       [-1.27692475, -1.04204575],\n",
       "       [-1.16537974, -0.9111668 ],\n",
       "       [ 1.28861042,  0.92113853],\n",
       "       [ 0.73088538,  0.52850167],\n",
       "       [ 1.45592793,  1.05201748],\n",
       "       [ 0.67511288,  0.39762272],\n",
       "       [-1.27692475, -1.30380366],\n",
       "       [ 0.22893285,  0.13586482],\n",
       "       [ 0.73088538,  1.05201748],\n",
       "       [ 1.23283791,  1.70641225],\n",
       "       [-1.27692475, -1.17292471],\n",
       "       [-1.33269725, -1.30380366],\n",
       "       [ 1.0097479 ,  0.79025958],\n",
       "       [-1.33269725, -1.17292471],\n",
       "       [ 1.17706541,  1.44465434],\n",
       "       [ 0.06161534, -0.12589309],\n",
       "       [ 0.22893285,  0.00498586],\n",
       "       [ 0.28470535,  0.13586482],\n",
       "       [-1.27692475, -1.43468261],\n",
       "       [ 0.78665788,  1.44465434],\n",
       "       [ 0.34047786,  0.13586482],\n",
       "       [-1.38846976, -1.30380366],\n",
       "       [-1.33269725, -1.17292471],\n",
       "       [ 0.67511288,  0.65938063],\n",
       "       [-1.38846976, -1.17292471],\n",
       "       [ 0.11738784,  0.00498586],\n",
       "       [-1.22115225, -1.04204575],\n",
       "       [-1.27692475, -1.30380366],\n",
       "       [-1.38846976, -1.30380366]])"
      ]
     },
     "execution_count": 36,
     "metadata": {},
     "output_type": "execute_result"
    }
   ],
   "source": [
    "X_train_std"
   ]
  },
  {
   "cell_type": "code",
   "execution_count": 37,
   "id": "5522510b",
   "metadata": {},
   "outputs": [
    {
     "data": {
      "text/plain": [
       "array([[1.4, 0.2],\n",
       "       [1.7, 0.2],\n",
       "       [5.3, 2.3],\n",
       "       [5.7, 2.1],\n",
       "       [1.2, 0.2],\n",
       "       [5.6, 2.4],\n",
       "       [6.6, 2.1],\n",
       "       [1.2, 0.2],\n",
       "       [5.8, 1.6],\n",
       "       [4.6, 1.3],\n",
       "       [3.3, 1. ],\n",
       "       [3.9, 1.4],\n",
       "       [1.3, 0.2],\n",
       "       [4.7, 1.2],\n",
       "       [4. , 1.3],\n",
       "       [5.1, 1.9],\n",
       "       [1.9, 0.2],\n",
       "       [3.5, 1. ],\n",
       "       [3.9, 1.2],\n",
       "       [1.6, 0.2],\n",
       "       [4.8, 1.8],\n",
       "       [6.9, 2.3],\n",
       "       [4.5, 1.5],\n",
       "       [4.5, 1.3],\n",
       "       [3.8, 1.1],\n",
       "       [5.6, 2.4],\n",
       "       [4.7, 1.4],\n",
       "       [5.6, 1.4],\n",
       "       [5.8, 2.2],\n",
       "       [5.1, 2.4],\n",
       "       [4.1, 1.3],\n",
       "       [1.5, 0.4],\n",
       "       [6.7, 2.2],\n",
       "       [5. , 1.9],\n",
       "       [4.8, 1.8],\n",
       "       [5.6, 2.1],\n",
       "       [4.2, 1.5],\n",
       "       [6.7, 2. ],\n",
       "       [5.5, 1.8],\n",
       "       [1.6, 0.2],\n",
       "       [4.9, 1.8],\n",
       "       [1.4, 0.2],\n",
       "       [5.1, 1.5],\n",
       "       [1.9, 0.4],\n",
       "       [1. , 0.2],\n",
       "       [4.9, 1.5],\n",
       "       [1.5, 0.1],\n",
       "       [1.1, 0.1],\n",
       "       [5.5, 1.8],\n",
       "       [4.7, 1.5],\n",
       "       [1.7, 0.3],\n",
       "       [3.5, 1. ],\n",
       "       [4.1, 1. ],\n",
       "       [1.5, 0.2],\n",
       "       [1.5, 0.2],\n",
       "       [1.5, 0.2],\n",
       "       [3.7, 1. ],\n",
       "       [6.1, 2.5],\n",
       "       [1.3, 0.3],\n",
       "       [4.9, 1.5],\n",
       "       [1.3, 0.2],\n",
       "       [4.5, 1.6],\n",
       "       [6. , 1.8],\n",
       "       [1.6, 0.2],\n",
       "       [1.4, 0.2],\n",
       "       [4.4, 1.2],\n",
       "       [5.1, 1.9],\n",
       "       [3.6, 1.3],\n",
       "       [4.1, 1.3],\n",
       "       [4.8, 1.8],\n",
       "       [6.1, 2.3],\n",
       "       [4.5, 1.5],\n",
       "       [4.5, 1.5],\n",
       "       [5.4, 2.1],\n",
       "       [5.6, 2.2],\n",
       "       [4.6, 1.4],\n",
       "       [1.5, 0.4],\n",
       "       [1.7, 0.5],\n",
       "       [6.1, 1.9],\n",
       "       [5.1, 1.6],\n",
       "       [6.4, 2. ],\n",
       "       [5. , 1.5],\n",
       "       [1.5, 0.2],\n",
       "       [4.2, 1.3],\n",
       "       [5.1, 2. ],\n",
       "       [6. , 2.5],\n",
       "       [1.5, 0.3],\n",
       "       [1.4, 0.2],\n",
       "       [5.6, 1.8],\n",
       "       [1.4, 0.3],\n",
       "       [5.9, 2.3],\n",
       "       [3.9, 1.1],\n",
       "       [4.2, 1.2],\n",
       "       [4.3, 1.3],\n",
       "       [1.5, 0.1],\n",
       "       [5.2, 2.3],\n",
       "       [4.4, 1.3],\n",
       "       [1.3, 0.2],\n",
       "       [1.4, 0.3],\n",
       "       [5. , 1.7],\n",
       "       [1.3, 0.3],\n",
       "       [4. , 1.2],\n",
       "       [1.6, 0.4],\n",
       "       [1.5, 0.2],\n",
       "       [1.3, 0.2]])"
      ]
     },
     "execution_count": 37,
     "metadata": {},
     "output_type": "execute_result"
    }
   ],
   "source": [
    "X_train"
   ]
  },
  {
   "cell_type": "markdown",
   "id": "648cccb6",
   "metadata": {},
   "source": [
    "## 로지스틱 회귀"
   ]
  },
  {
   "cell_type": "code",
   "execution_count": 38,
   "id": "3b34bff9",
   "metadata": {},
   "outputs": [],
   "source": [
    "from sklearn.linear_model import LogisticRegression"
   ]
  },
  {
   "cell_type": "code",
   "execution_count": 39,
   "id": "93dd1fdd",
   "metadata": {},
   "outputs": [],
   "source": [
    "logistic = LogisticRegression()"
   ]
  },
  {
   "cell_type": "code",
   "execution_count": 41,
   "id": "027685aa",
   "metadata": {},
   "outputs": [
    {
     "data": {
      "text/plain": [
       "LogisticRegression()"
      ]
     },
     "execution_count": 41,
     "metadata": {},
     "output_type": "execute_result"
    }
   ],
   "source": [
    "logistic.fit(X_train_std, y_train)"
   ]
  },
  {
   "cell_type": "code",
   "execution_count": 42,
   "id": "defc16ed",
   "metadata": {},
   "outputs": [
    {
     "data": {
      "text/plain": [
       "array([0, 0, 2])"
      ]
     },
     "execution_count": 42,
     "metadata": {},
     "output_type": "execute_result"
    }
   ],
   "source": [
    "logistic.predict(X_train_std[:3, :])"
   ]
  },
  {
   "cell_type": "code",
   "execution_count": 53,
   "id": "0b6dd174",
   "metadata": {},
   "outputs": [
    {
     "data": {
      "text/plain": [
       "array([[9.59543959e-01, 4.04522758e-02, 3.76537919e-06],\n",
       "       [9.40769396e-01, 5.92226306e-02, 7.97320867e-06],\n",
       "       [6.25773725e-05, 6.67508339e-02, 9.33186589e-01]])"
      ]
     },
     "execution_count": 53,
     "metadata": {},
     "output_type": "execute_result"
    }
   ],
   "source": [
    "logistic.predict_proba(X_train_std[:3, :]) # 0일 확률 | 1일확률 | 2일 확률"
   ]
  },
  {
   "cell_type": "code",
   "execution_count": 44,
   "id": "40e0484c",
   "metadata": {},
   "outputs": [
    {
     "data": {
      "text/plain": [
       "array([0, 0, 2])"
      ]
     },
     "execution_count": 44,
     "metadata": {},
     "output_type": "execute_result"
    }
   ],
   "source": [
    "y_train[:3]"
   ]
  },
  {
   "cell_type": "code",
   "execution_count": 45,
   "id": "ed4797b6",
   "metadata": {},
   "outputs": [
    {
     "data": {
      "text/plain": [
       "0.9428571428571428"
      ]
     },
     "execution_count": 45,
     "metadata": {},
     "output_type": "execute_result"
    }
   ],
   "source": [
    "logistic.score(X_train_std, y_train) # 정확도(accuracy)"
   ]
  },
  {
   "cell_type": "code",
   "execution_count": 47,
   "id": "ac227f92",
   "metadata": {},
   "outputs": [
    {
     "data": {
      "text/plain": [
       "0.9777777777777777"
      ]
     },
     "execution_count": 47,
     "metadata": {},
     "output_type": "execute_result"
    }
   ],
   "source": [
    "logistic.score(X_test_std, y_test) # test값에서 잘 나오는 것이 중요! "
   ]
  },
  {
   "cell_type": "code",
   "execution_count": 49,
   "id": "3a3a0f04",
   "metadata": {},
   "outputs": [],
   "source": [
    "# 정오분류표 만들기 "
   ]
  },
  {
   "cell_type": "code",
   "execution_count": 50,
   "id": "45d64040",
   "metadata": {},
   "outputs": [],
   "source": [
    "from sklearn.metrics import confusion_matrix"
   ]
  },
  {
   "cell_type": "code",
   "execution_count": 51,
   "id": "9803ad86",
   "metadata": {},
   "outputs": [
    {
     "data": {
      "text/plain": [
       "array([[15,  0,  0],\n",
       "       [ 0, 15,  0],\n",
       "       [ 0,  1, 14]], dtype=int64)"
      ]
     },
     "execution_count": 51,
     "metadata": {},
     "output_type": "execute_result"
    }
   ],
   "source": [
    "y_pred = logistic.predict(X_test_std) # test data에 대한 예측 분류값\n",
    "confusion_matrix(y_test, y_pred)"
   ]
  },
  {
   "cell_type": "code",
   "execution_count": null,
   "id": "f996d9c3",
   "metadata": {},
   "outputs": [],
   "source": []
  }
 ],
 "metadata": {
  "kernelspec": {
   "display_name": "Python 3",
   "language": "python",
   "name": "python3"
  },
  "language_info": {
   "codemirror_mode": {
    "name": "ipython",
    "version": 3
   },
   "file_extension": ".py",
   "mimetype": "text/x-python",
   "name": "python",
   "nbconvert_exporter": "python",
   "pygments_lexer": "ipython3",
   "version": "3.8.8"
  }
 },
 "nbformat": 4,
 "nbformat_minor": 5
}
